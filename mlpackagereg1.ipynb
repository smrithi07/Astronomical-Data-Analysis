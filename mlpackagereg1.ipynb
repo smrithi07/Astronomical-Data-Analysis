{
 "cells": [
  {
   "cell_type": "code",
   "execution_count": 1,
   "metadata": {},
   "outputs": [
    {
     "name": "stdout",
     "output_type": "stream",
     "text": [
      "Available keys in the dataset: ['norms', 'spectra', 'log_OIII_Hb', 'zerr', 'mu', 'coeffs', 'z', 'coeff1', 'lineindex_cln', 'spec_cln', 'coeff0', 'evals', 'mask', 'log_NII_Ha', 'evecs']\n"
     ]
    }
   ],
   "source": [
    "from astroML.datasets import fetch_sdss_corrected_spectra\n",
    "\n",
    "# Download the dataset\n",
    "data = fetch_sdss_corrected_spectra()\n",
    "\n",
    "# Check the keys available in the dataset\n",
    "print(\"Available keys in the dataset:\", list(data.keys()))\n",
    "\n",
    "\n"
   ]
  },
  {
   "cell_type": "code",
   "execution_count": 2,
   "metadata": {},
   "outputs": [
    {
     "name": "stdout",
     "output_type": "stream",
     "text": [
      "First few rows of the dataset:\n",
      "   redshift  class    flux_0    flux_1    flux_2    flux_3    flux_4  \\\n",
      "0  0.006325      4  0.000000  0.000000  0.000000  0.000000  0.000000   \n",
      "1  0.204065      3  2.189293  2.186866  2.184458  2.182061  2.179677   \n",
      "2  0.133729      3  0.000000  0.000000  0.000000  0.000000  0.000000   \n",
      "3  0.084296      3  0.000000  0.000000  0.000000  0.000000  0.000000   \n",
      "4  0.131529      2  0.000000  0.000000  0.000000  0.000000  0.000000   \n",
      "\n",
      "     flux_5   flux_6    flux_7  ...   flux_990   flux_991   flux_992  \\\n",
      "0  0.000000  0.00000  0.000000  ...   8.393729   8.024036   8.561415   \n",
      "1  1.669877  2.50816  2.002486  ...   0.000000   0.000000   0.000000   \n",
      "2  0.000000  0.00000  0.000000  ...  11.021602   9.227592   9.952583   \n",
      "3  0.000000  0.00000  0.000000  ...  22.398006  21.411480  21.953152   \n",
      "4  0.000000  0.00000  0.000000  ...  10.656296   8.764681  10.720152   \n",
      "\n",
      "    flux_993   flux_994   flux_995   flux_996   flux_997   flux_998   flux_999  \n",
      "0   8.434849   8.597162   8.344885   8.907126   7.509330   7.970523   7.984391  \n",
      "1   0.000000   0.000000   0.000000   0.000000   0.000000   0.000000   0.000000  \n",
      "2  10.244089   9.782692  11.257375   8.749062   9.290791   9.108875   8.385379  \n",
      "3  21.155659  21.920168  21.504097  19.942957  20.881233  20.432820  19.751265  \n",
      "4  10.226636   9.080606  10.049644   9.778271  10.630739   9.073994   9.437379  \n",
      "\n",
      "[5 rows x 1002 columns]\n"
     ]
    }
   ],
   "source": [
    "import pandas as pd\n",
    "# Load the dataset\n",
    "df = pd.read_csv(\"sdss_spectral_data.csv\")\n",
    "\n",
    "# Print the first few rows to get a quick look at the data structure\n",
    "print(\"First few rows of the dataset:\")\n",
    "print(df.head())\n",
    "\n"
   ]
  },
  {
   "cell_type": "code",
   "execution_count": 3,
   "metadata": {},
   "outputs": [
    {
     "data": {
      "text/html": [
       "<div>\n",
       "<style scoped>\n",
       "    .dataframe tbody tr th:only-of-type {\n",
       "        vertical-align: middle;\n",
       "    }\n",
       "\n",
       "    .dataframe tbody tr th {\n",
       "        vertical-align: top;\n",
       "    }\n",
       "\n",
       "    .dataframe thead th {\n",
       "        text-align: right;\n",
       "    }\n",
       "</style>\n",
       "<table border=\"1\" class=\"dataframe\">\n",
       "  <thead>\n",
       "    <tr style=\"text-align: right;\">\n",
       "      <th></th>\n",
       "      <th>redshift</th>\n",
       "      <th>flux_0</th>\n",
       "      <th>flux_1</th>\n",
       "      <th>flux_2</th>\n",
       "      <th>flux_3</th>\n",
       "      <th>flux_4</th>\n",
       "      <th>flux_5</th>\n",
       "      <th>flux_6</th>\n",
       "      <th>flux_7</th>\n",
       "      <th>flux_8</th>\n",
       "      <th>...</th>\n",
       "      <th>flux_990</th>\n",
       "      <th>flux_991</th>\n",
       "      <th>flux_992</th>\n",
       "      <th>flux_993</th>\n",
       "      <th>flux_994</th>\n",
       "      <th>flux_995</th>\n",
       "      <th>flux_996</th>\n",
       "      <th>flux_997</th>\n",
       "      <th>flux_998</th>\n",
       "      <th>flux_999</th>\n",
       "    </tr>\n",
       "  </thead>\n",
       "  <tbody>\n",
       "    <tr>\n",
       "      <th>0</th>\n",
       "      <td>0.006325</td>\n",
       "      <td>0.0</td>\n",
       "      <td>0.0</td>\n",
       "      <td>0.0</td>\n",
       "      <td>0.0</td>\n",
       "      <td>0.0</td>\n",
       "      <td>0.0</td>\n",
       "      <td>0.0</td>\n",
       "      <td>0.0</td>\n",
       "      <td>0.0</td>\n",
       "      <td>...</td>\n",
       "      <td>8.393729</td>\n",
       "      <td>8.024036</td>\n",
       "      <td>8.561415</td>\n",
       "      <td>8.434849</td>\n",
       "      <td>8.597162</td>\n",
       "      <td>8.344885</td>\n",
       "      <td>8.907126</td>\n",
       "      <td>7.50933</td>\n",
       "      <td>7.970523</td>\n",
       "      <td>7.984391</td>\n",
       "    </tr>\n",
       "  </tbody>\n",
       "</table>\n",
       "<p>1 rows × 1001 columns</p>\n",
       "</div>"
      ],
      "text/plain": [
       "   redshift  flux_0  flux_1  flux_2  flux_3  flux_4  flux_5  flux_6  flux_7  \\\n",
       "0  0.006325     0.0     0.0     0.0     0.0     0.0     0.0     0.0     0.0   \n",
       "\n",
       "   flux_8  ...  flux_990  flux_991  flux_992  flux_993  flux_994  flux_995  \\\n",
       "0     0.0  ...  8.393729  8.024036  8.561415  8.434849  8.597162  8.344885   \n",
       "\n",
       "   flux_996  flux_997  flux_998  flux_999  \n",
       "0  8.907126   7.50933  7.970523  7.984391  \n",
       "\n",
       "[1 rows x 1001 columns]"
      ]
     },
     "execution_count": 3,
     "metadata": {},
     "output_type": "execute_result"
    }
   ],
   "source": [
    "# Drop class column if it’s categorical and not useful for regression\n",
    "df = df.drop(columns=['class'])\n",
    "df.head(1)"
   ]
  },
  {
   "cell_type": "code",
   "execution_count": 4,
   "metadata": {},
   "outputs": [
    {
     "name": "stdout",
     "output_type": "stream",
     "text": [
      "Columns with outliers:\n",
      "['redshift', 'flux_0', 'flux_1', 'flux_2', 'flux_3', 'flux_4', 'flux_5', 'flux_6', 'flux_7', 'flux_8', 'flux_9', 'flux_10', 'flux_11', 'flux_12', 'flux_13', 'flux_14', 'flux_15', 'flux_16', 'flux_17', 'flux_18', 'flux_19', 'flux_20', 'flux_21', 'flux_22', 'flux_23', 'flux_24', 'flux_25', 'flux_26', 'flux_27', 'flux_28', 'flux_29', 'flux_30', 'flux_31', 'flux_32', 'flux_33', 'flux_34', 'flux_35', 'flux_36', 'flux_37', 'flux_38', 'flux_39', 'flux_40', 'flux_41', 'flux_42', 'flux_43', 'flux_44', 'flux_45', 'flux_46', 'flux_47', 'flux_48', 'flux_49', 'flux_50', 'flux_51', 'flux_52', 'flux_53', 'flux_54', 'flux_55', 'flux_56', 'flux_57', 'flux_58', 'flux_59', 'flux_60', 'flux_61', 'flux_62', 'flux_63', 'flux_64', 'flux_65', 'flux_66', 'flux_67', 'flux_68', 'flux_69', 'flux_70', 'flux_71', 'flux_72', 'flux_73', 'flux_74', 'flux_75', 'flux_76', 'flux_77', 'flux_78', 'flux_79', 'flux_80', 'flux_81', 'flux_82', 'flux_83', 'flux_84', 'flux_85', 'flux_86', 'flux_87', 'flux_88', 'flux_89', 'flux_90', 'flux_91', 'flux_92', 'flux_93', 'flux_94', 'flux_95', 'flux_96', 'flux_97', 'flux_98', 'flux_99', 'flux_100', 'flux_101', 'flux_102', 'flux_103', 'flux_104', 'flux_105', 'flux_106', 'flux_107', 'flux_108', 'flux_109', 'flux_110', 'flux_111', 'flux_112', 'flux_113', 'flux_114', 'flux_115', 'flux_116', 'flux_117', 'flux_118', 'flux_119', 'flux_120', 'flux_121', 'flux_122', 'flux_123', 'flux_124', 'flux_125', 'flux_126', 'flux_127', 'flux_128', 'flux_129', 'flux_130', 'flux_131', 'flux_132', 'flux_133', 'flux_134', 'flux_135', 'flux_136', 'flux_137', 'flux_138', 'flux_139', 'flux_140', 'flux_141', 'flux_142', 'flux_143', 'flux_144', 'flux_145', 'flux_146', 'flux_147', 'flux_148', 'flux_149', 'flux_150', 'flux_151', 'flux_152', 'flux_153', 'flux_154', 'flux_155', 'flux_156', 'flux_157', 'flux_158', 'flux_159', 'flux_160', 'flux_161', 'flux_162', 'flux_163', 'flux_164', 'flux_165', 'flux_166', 'flux_167', 'flux_168', 'flux_169', 'flux_170', 'flux_171', 'flux_172', 'flux_173', 'flux_174', 'flux_175', 'flux_176', 'flux_177', 'flux_178', 'flux_179', 'flux_180', 'flux_181', 'flux_182', 'flux_183', 'flux_184', 'flux_185', 'flux_186', 'flux_187', 'flux_188', 'flux_189', 'flux_190', 'flux_191', 'flux_192', 'flux_193', 'flux_194', 'flux_195', 'flux_196', 'flux_197', 'flux_198', 'flux_199', 'flux_200', 'flux_201', 'flux_202', 'flux_203', 'flux_204', 'flux_205', 'flux_206', 'flux_207', 'flux_208', 'flux_209', 'flux_210', 'flux_211', 'flux_212', 'flux_213', 'flux_214', 'flux_215', 'flux_216', 'flux_217', 'flux_218', 'flux_219', 'flux_220', 'flux_221', 'flux_222', 'flux_223', 'flux_224', 'flux_225', 'flux_226', 'flux_227', 'flux_228', 'flux_229', 'flux_230', 'flux_231', 'flux_232', 'flux_233', 'flux_234', 'flux_235', 'flux_236', 'flux_237', 'flux_238', 'flux_239', 'flux_240', 'flux_241', 'flux_242', 'flux_243', 'flux_244', 'flux_245', 'flux_246', 'flux_247', 'flux_248', 'flux_249', 'flux_250', 'flux_251', 'flux_252', 'flux_253', 'flux_254', 'flux_255', 'flux_256', 'flux_257', 'flux_258', 'flux_259', 'flux_260', 'flux_261', 'flux_262', 'flux_263', 'flux_264', 'flux_265', 'flux_266', 'flux_267', 'flux_268', 'flux_269', 'flux_270', 'flux_271', 'flux_272', 'flux_273', 'flux_274', 'flux_275', 'flux_276', 'flux_277', 'flux_278', 'flux_279', 'flux_280', 'flux_281', 'flux_282', 'flux_283', 'flux_284', 'flux_285', 'flux_286', 'flux_287', 'flux_288', 'flux_289', 'flux_290', 'flux_291', 'flux_292', 'flux_293', 'flux_294', 'flux_295', 'flux_296', 'flux_297', 'flux_298', 'flux_299', 'flux_300', 'flux_301', 'flux_302', 'flux_303', 'flux_304', 'flux_305', 'flux_306', 'flux_307', 'flux_308', 'flux_309', 'flux_310', 'flux_311', 'flux_312', 'flux_313', 'flux_314', 'flux_315', 'flux_316', 'flux_317', 'flux_318', 'flux_319', 'flux_320', 'flux_321', 'flux_322', 'flux_323', 'flux_324', 'flux_325', 'flux_326', 'flux_327', 'flux_328', 'flux_329', 'flux_330', 'flux_331', 'flux_332', 'flux_333', 'flux_334', 'flux_335', 'flux_336', 'flux_337', 'flux_338', 'flux_339', 'flux_340', 'flux_341', 'flux_342', 'flux_343', 'flux_344', 'flux_345', 'flux_346', 'flux_347', 'flux_348', 'flux_349', 'flux_350', 'flux_351', 'flux_352', 'flux_353', 'flux_354', 'flux_355', 'flux_356', 'flux_357', 'flux_358', 'flux_359', 'flux_360', 'flux_361', 'flux_362', 'flux_363', 'flux_364', 'flux_365', 'flux_366', 'flux_367', 'flux_368', 'flux_369', 'flux_370', 'flux_371', 'flux_372', 'flux_373', 'flux_374', 'flux_375', 'flux_376', 'flux_377', 'flux_378', 'flux_379', 'flux_380', 'flux_381', 'flux_382', 'flux_383', 'flux_384', 'flux_385', 'flux_386', 'flux_387', 'flux_388', 'flux_389', 'flux_390', 'flux_391', 'flux_392', 'flux_393', 'flux_394', 'flux_395', 'flux_396', 'flux_397', 'flux_398', 'flux_399', 'flux_400', 'flux_401', 'flux_402', 'flux_403', 'flux_404', 'flux_405', 'flux_406', 'flux_407', 'flux_408', 'flux_409', 'flux_410', 'flux_411', 'flux_412', 'flux_413', 'flux_414', 'flux_415', 'flux_416', 'flux_417', 'flux_418', 'flux_419', 'flux_420', 'flux_421', 'flux_422', 'flux_423', 'flux_424', 'flux_425', 'flux_426', 'flux_427', 'flux_428', 'flux_429', 'flux_430', 'flux_431', 'flux_432', 'flux_433', 'flux_434', 'flux_435', 'flux_436', 'flux_437', 'flux_438', 'flux_439', 'flux_440', 'flux_441', 'flux_442', 'flux_443', 'flux_444', 'flux_445', 'flux_446', 'flux_447', 'flux_448', 'flux_449', 'flux_450', 'flux_451', 'flux_452', 'flux_453', 'flux_454', 'flux_455', 'flux_456', 'flux_457', 'flux_458', 'flux_459', 'flux_460', 'flux_461', 'flux_462', 'flux_463', 'flux_464', 'flux_465', 'flux_466', 'flux_467', 'flux_468', 'flux_469', 'flux_470', 'flux_471', 'flux_472', 'flux_473', 'flux_474', 'flux_475', 'flux_476', 'flux_477', 'flux_478', 'flux_479', 'flux_480', 'flux_481', 'flux_482', 'flux_483', 'flux_484', 'flux_485', 'flux_486', 'flux_487', 'flux_488', 'flux_489', 'flux_490', 'flux_491', 'flux_492', 'flux_493', 'flux_494', 'flux_495', 'flux_496', 'flux_497', 'flux_498', 'flux_499', 'flux_500', 'flux_501', 'flux_502', 'flux_503', 'flux_504', 'flux_505', 'flux_506', 'flux_507', 'flux_508', 'flux_509', 'flux_510', 'flux_511', 'flux_512', 'flux_513', 'flux_514', 'flux_515', 'flux_516', 'flux_517', 'flux_518', 'flux_519', 'flux_520', 'flux_521', 'flux_522', 'flux_523', 'flux_524', 'flux_525', 'flux_526', 'flux_527', 'flux_528', 'flux_529', 'flux_530', 'flux_531', 'flux_532', 'flux_533', 'flux_534', 'flux_535', 'flux_536', 'flux_537', 'flux_538', 'flux_539', 'flux_540', 'flux_541', 'flux_542', 'flux_543', 'flux_544', 'flux_545', 'flux_546', 'flux_547', 'flux_548', 'flux_549', 'flux_550', 'flux_551', 'flux_552', 'flux_553', 'flux_554', 'flux_555', 'flux_556', 'flux_557', 'flux_558', 'flux_559', 'flux_560', 'flux_561', 'flux_562', 'flux_563', 'flux_564', 'flux_565', 'flux_566', 'flux_567', 'flux_568', 'flux_569', 'flux_570', 'flux_571', 'flux_572', 'flux_573', 'flux_574', 'flux_575', 'flux_576', 'flux_577', 'flux_578', 'flux_579', 'flux_580', 'flux_581', 'flux_582', 'flux_583', 'flux_584', 'flux_585', 'flux_586', 'flux_587', 'flux_588', 'flux_589', 'flux_590', 'flux_591', 'flux_592', 'flux_593', 'flux_594', 'flux_595', 'flux_596', 'flux_597', 'flux_598', 'flux_599', 'flux_600', 'flux_601', 'flux_602', 'flux_603', 'flux_604', 'flux_605', 'flux_606', 'flux_607', 'flux_608', 'flux_609', 'flux_610', 'flux_611', 'flux_612', 'flux_613', 'flux_614', 'flux_615', 'flux_616', 'flux_617', 'flux_618', 'flux_619', 'flux_620', 'flux_621', 'flux_622', 'flux_623', 'flux_624', 'flux_625', 'flux_626', 'flux_627', 'flux_628', 'flux_629', 'flux_630', 'flux_631', 'flux_632', 'flux_633', 'flux_634', 'flux_635', 'flux_636', 'flux_637', 'flux_638', 'flux_639', 'flux_640', 'flux_641', 'flux_642', 'flux_643', 'flux_644', 'flux_645', 'flux_646', 'flux_647', 'flux_648', 'flux_649', 'flux_650', 'flux_651', 'flux_652', 'flux_653', 'flux_654', 'flux_655', 'flux_656', 'flux_657', 'flux_658', 'flux_659', 'flux_660', 'flux_661', 'flux_662', 'flux_663', 'flux_664', 'flux_665', 'flux_666', 'flux_667', 'flux_668', 'flux_669', 'flux_670', 'flux_671', 'flux_672', 'flux_673', 'flux_674', 'flux_675', 'flux_676', 'flux_677', 'flux_678', 'flux_679', 'flux_680', 'flux_681', 'flux_682', 'flux_683', 'flux_684', 'flux_685', 'flux_686', 'flux_687', 'flux_688', 'flux_689', 'flux_690', 'flux_691', 'flux_692', 'flux_693', 'flux_694', 'flux_695', 'flux_696', 'flux_697', 'flux_698', 'flux_699', 'flux_700', 'flux_701', 'flux_702', 'flux_703', 'flux_704', 'flux_705', 'flux_706', 'flux_707', 'flux_708', 'flux_709', 'flux_710', 'flux_711', 'flux_712', 'flux_713', 'flux_714', 'flux_715', 'flux_716', 'flux_717', 'flux_718', 'flux_719', 'flux_720', 'flux_721', 'flux_722', 'flux_723', 'flux_724', 'flux_725', 'flux_726', 'flux_727', 'flux_728', 'flux_729', 'flux_730', 'flux_731', 'flux_732', 'flux_733', 'flux_734', 'flux_735', 'flux_736', 'flux_737', 'flux_738', 'flux_739', 'flux_740', 'flux_741', 'flux_742', 'flux_743', 'flux_744', 'flux_745', 'flux_746', 'flux_747', 'flux_748', 'flux_749', 'flux_750', 'flux_751', 'flux_752', 'flux_753', 'flux_754', 'flux_755', 'flux_756', 'flux_757', 'flux_758', 'flux_759', 'flux_760', 'flux_761', 'flux_762', 'flux_763', 'flux_764', 'flux_765', 'flux_766', 'flux_767', 'flux_768', 'flux_769', 'flux_770', 'flux_771', 'flux_772', 'flux_773', 'flux_774', 'flux_775', 'flux_776', 'flux_777', 'flux_778', 'flux_779', 'flux_780', 'flux_781', 'flux_782', 'flux_783', 'flux_784', 'flux_785', 'flux_786', 'flux_787', 'flux_788', 'flux_789', 'flux_790', 'flux_791', 'flux_792', 'flux_793', 'flux_794', 'flux_795', 'flux_796', 'flux_797', 'flux_798', 'flux_799', 'flux_800', 'flux_801', 'flux_802', 'flux_803', 'flux_804', 'flux_805', 'flux_806', 'flux_807', 'flux_808', 'flux_809', 'flux_810', 'flux_811', 'flux_812', 'flux_813', 'flux_814', 'flux_815', 'flux_816', 'flux_817', 'flux_818', 'flux_819', 'flux_820', 'flux_821', 'flux_822', 'flux_823', 'flux_824', 'flux_825', 'flux_826', 'flux_827', 'flux_828', 'flux_829', 'flux_830', 'flux_831', 'flux_832', 'flux_833', 'flux_834', 'flux_835', 'flux_836', 'flux_837', 'flux_838', 'flux_839', 'flux_840', 'flux_841', 'flux_842', 'flux_843', 'flux_844', 'flux_845', 'flux_846', 'flux_847', 'flux_848', 'flux_849', 'flux_850', 'flux_851', 'flux_852', 'flux_853', 'flux_854', 'flux_855', 'flux_856', 'flux_857', 'flux_858', 'flux_859', 'flux_860', 'flux_861', 'flux_862', 'flux_863', 'flux_864', 'flux_865', 'flux_866', 'flux_867', 'flux_868', 'flux_869', 'flux_870', 'flux_871', 'flux_872', 'flux_873', 'flux_874', 'flux_875', 'flux_876', 'flux_877', 'flux_878', 'flux_879', 'flux_880', 'flux_881', 'flux_882', 'flux_883', 'flux_884', 'flux_885', 'flux_886', 'flux_887', 'flux_888', 'flux_889', 'flux_890', 'flux_891', 'flux_892', 'flux_893', 'flux_894', 'flux_895', 'flux_896', 'flux_897', 'flux_898', 'flux_899', 'flux_900', 'flux_901', 'flux_902', 'flux_903', 'flux_904', 'flux_905', 'flux_906', 'flux_907', 'flux_908', 'flux_909', 'flux_910', 'flux_911', 'flux_912', 'flux_913', 'flux_914', 'flux_915', 'flux_916', 'flux_917', 'flux_918', 'flux_919', 'flux_920', 'flux_921', 'flux_922', 'flux_923', 'flux_924', 'flux_925', 'flux_926', 'flux_927', 'flux_928', 'flux_929', 'flux_930', 'flux_931', 'flux_932', 'flux_933', 'flux_934', 'flux_935', 'flux_936', 'flux_937', 'flux_938', 'flux_939', 'flux_940', 'flux_941', 'flux_942', 'flux_943', 'flux_944', 'flux_945', 'flux_946', 'flux_947', 'flux_948', 'flux_949', 'flux_950', 'flux_951', 'flux_952', 'flux_953', 'flux_954', 'flux_955', 'flux_956', 'flux_957', 'flux_958', 'flux_959', 'flux_960', 'flux_961', 'flux_962', 'flux_963', 'flux_964', 'flux_965', 'flux_966', 'flux_967', 'flux_968', 'flux_969', 'flux_970', 'flux_971', 'flux_972', 'flux_973', 'flux_974', 'flux_975', 'flux_976', 'flux_977', 'flux_978', 'flux_979', 'flux_980', 'flux_981', 'flux_982', 'flux_983', 'flux_984', 'flux_985', 'flux_986', 'flux_987', 'flux_988', 'flux_989', 'flux_990', 'flux_991', 'flux_992', 'flux_993', 'flux_994', 'flux_995', 'flux_996', 'flux_997', 'flux_998', 'flux_999']\n"
     ]
    }
   ],
   "source": [
    "# Define function to detect outliers using IQR\n",
    "def detect_outliers_iqr(df):\n",
    "    outliers = {}\n",
    "    for col in df.select_dtypes(include=['float64', 'int64']).columns:\n",
    "        Q1 = df[col].quantile(0.25)\n",
    "        Q3 = df[col].quantile(0.75)\n",
    "        IQR = Q3 - Q1\n",
    "        lower_bound = Q1 - 1.5 * IQR\n",
    "        upper_bound = Q3 + 1.5 * IQR\n",
    "        outliers[col] = df[(df[col] < lower_bound) | (df[col] > upper_bound)]\n",
    "    return outliers\n",
    "\n",
    "# Detect outliers in the dataset\n",
    "outliers = detect_outliers_iqr(df)\n",
    "print(f\"Columns with outliers:\\n{[col for col, out in outliers.items() if not out.empty]}\")\n"
   ]
  },
  {
   "cell_type": "code",
   "execution_count": 5,
   "metadata": {},
   "outputs": [
    {
     "data": {
      "image/png": "[encoded data removed]",
      "text/plain": [
       "<Figure size 1500x600 with 1 Axes>"
      ]
     },
     "metadata": {},
     "output_type": "display_data"
    }
   ],
   "source": [
    "import matplotlib.pyplot as plt\n",
    "import seaborn as sns\n",
    "\n",
    "# Plot boxplots for a subset of the data\n",
    "plt.figure(figsize=(15, 6))\n",
    "sns.boxplot(data=df.iloc[:, :10])  # Adjust number of columns as needed for visibility\n",
    "plt.title(\"Boxplot of First 10 Features\")\n",
    "plt.show()\n"
   ]
  },
  {
   "cell_type": "code",
   "execution_count": 6,
   "metadata": {},
   "outputs": [
    {
     "name": "stdout",
     "output_type": "stream",
     "text": [
      "Outliers capped.\n"
     ]
    }
   ],
   "source": [
    "# Cap and floor outliers\n",
    "for col in df.columns:\n",
    "    Q1 = df[col].quantile(0.25)\n",
    "    Q3 = df[col].quantile(0.75)\n",
    "    IQR = Q3 - Q1\n",
    "    lower_bound = Q1 - 1.5 * IQR\n",
    "    upper_bound = Q3 + 1.5 * IQR\n",
    "    df[col] = df[col].clip(lower=lower_bound, upper=upper_bound)\n",
    "print(\"Outliers capped.\")\n"
   ]
  },
  {
   "cell_type": "code",
   "execution_count": 8,
   "metadata": {},
   "outputs": [
    {
     "name": "stdout",
     "output_type": "stream",
     "text": [
      "Columns with outliers:\n",
      "[]\n"
     ]
    }
   ],
   "source": [
    "# Detect outliers in the dataset\n",
    "outliers = detect_outliers_iqr(df)\n",
    "print(f\"Columns with outliers:\\n{[col for col, out in outliers.items() if not out.empty]}\")"
   ]
  },
  {
   "cell_type": "code",
   "execution_count": 9,
   "metadata": {},
   "outputs": [
    {
     "data": {
      "text/html": [
       "<div>\n",
       "<style scoped>\n",
       "    .dataframe tbody tr th:only-of-type {\n",
       "        vertical-align: middle;\n",
       "    }\n",
       "\n",
       "    .dataframe tbody tr th {\n",
       "        vertical-align: top;\n",
       "    }\n",
       "\n",
       "    .dataframe thead th {\n",
       "        text-align: right;\n",
       "    }\n",
       "</style>\n",
       "<table border=\"1\" class=\"dataframe\">\n",
       "  <thead>\n",
       "    <tr style=\"text-align: right;\">\n",
       "      <th></th>\n",
       "      <th>redshift</th>\n",
       "      <th>flux_0</th>\n",
       "      <th>flux_1</th>\n",
       "      <th>flux_2</th>\n",
       "      <th>flux_3</th>\n",
       "      <th>flux_4</th>\n",
       "      <th>flux_5</th>\n",
       "      <th>flux_6</th>\n",
       "      <th>flux_7</th>\n",
       "      <th>flux_8</th>\n",
       "      <th>...</th>\n",
       "      <th>flux_990</th>\n",
       "      <th>flux_991</th>\n",
       "      <th>flux_992</th>\n",
       "      <th>flux_993</th>\n",
       "      <th>flux_994</th>\n",
       "      <th>flux_995</th>\n",
       "      <th>flux_996</th>\n",
       "      <th>flux_997</th>\n",
       "      <th>flux_998</th>\n",
       "      <th>flux_999</th>\n",
       "    </tr>\n",
       "  </thead>\n",
       "  <tbody>\n",
       "    <tr>\n",
       "      <th>0</th>\n",
       "      <td>0.006325</td>\n",
       "      <td>0.0</td>\n",
       "      <td>0.0</td>\n",
       "      <td>0.0</td>\n",
       "      <td>0.0</td>\n",
       "      <td>0.0</td>\n",
       "      <td>0.0</td>\n",
       "      <td>0.0</td>\n",
       "      <td>0.0</td>\n",
       "      <td>0.0</td>\n",
       "      <td>...</td>\n",
       "      <td>8.393729</td>\n",
       "      <td>8.024036</td>\n",
       "      <td>8.561415</td>\n",
       "      <td>8.434849</td>\n",
       "      <td>8.597162</td>\n",
       "      <td>8.344885</td>\n",
       "      <td>8.907126</td>\n",
       "      <td>7.50933</td>\n",
       "      <td>7.970523</td>\n",
       "      <td>7.984391</td>\n",
       "    </tr>\n",
       "  </tbody>\n",
       "</table>\n",
       "<p>1 rows × 1001 columns</p>\n",
       "</div>"
      ],
      "text/plain": [
       "   redshift  flux_0  flux_1  flux_2  flux_3  flux_4  flux_5  flux_6  flux_7  \\\n",
       "0  0.006325     0.0     0.0     0.0     0.0     0.0     0.0     0.0     0.0   \n",
       "\n",
       "   flux_8  ...  flux_990  flux_991  flux_992  flux_993  flux_994  flux_995  \\\n",
       "0     0.0  ...  8.393729  8.024036  8.561415  8.434849  8.597162  8.344885   \n",
       "\n",
       "   flux_996  flux_997  flux_998  flux_999  \n",
       "0  8.907126   7.50933  7.970523  7.984391  \n",
       "\n",
       "[1 rows x 1001 columns]"
      ]
     },
     "execution_count": 9,
     "metadata": {},
     "output_type": "execute_result"
    }
   ],
   "source": [
    "df.head(1)"
   ]
  },
  {
   "cell_type": "code",
   "execution_count": 11,
   "metadata": {},
   "outputs": [
    {
     "data": {
      "text/plain": [
       "(4000, 1001)"
      ]
     },
     "execution_count": 11,
     "metadata": {},
     "output_type": "execute_result"
    }
   ],
   "source": [
    "df.shape"
   ]
  },
  {
   "cell_type": "code",
   "execution_count": 10,
   "metadata": {},
   "outputs": [
    {
     "name": "stdout",
     "output_type": "stream",
     "text": [
      "Shape of dataset after adding Fourier features: (4000, 2001)\n"
     ]
    }
   ],
   "source": [
    "import numpy as np\n",
    "import pandas as pd\n",
    "from astroML.fourier import FT_continuous\n",
    "from sklearn.decomposition import PCA\n",
    "# Fourier features calculation, ensuring even sample length\n",
    "fourier_features = []\n",
    "\n",
    "for index, row in df.iterrows():  # Replace X_resampled with your actual DataFrame\n",
    "    t = np.arange(len(row[1:]))  # Assuming flux values start from index 2\n",
    "    flux = row[1:].values  # Extract flux values\n",
    "\n",
    "    # Ensure even number of samples in `flux`\n",
    "    if len(flux) % 2 != 0:\n",
    "        flux = flux[:-1]  # Remove last element to make it even\n",
    "    t = t[:len(flux)]\n",
    "\n",
    "    # Compute Fourier transform\n",
    "    frequencies, fourier_coefficients = FT_continuous(t, flux, method=1)\n",
    "\n",
    "    # Append the Fourier coefficients as features\n",
    "    fourier_features.append(fourier_coefficients.real)  # Use .real if imaginary part is not needed\n",
    "\n",
    "# Convert the list of Fourier features to a DataFrame\n",
    "fourier_features_df = pd.DataFrame(fourier_features, columns=[f'fourier_feature_{i}' for i in range(fourier_features[0].shape[0])])\n",
    "\n",
    "# Now you can proceed to combine this DataFrame with your original data\n",
    "X_with_fourier = pd.concat([df.reset_index(drop=True), fourier_features_df], axis=1)\n",
    "print(\"Shape of dataset after adding Fourier features:\", X_with_fourier.shape)\n",
    "\n",
    "\n"
   ]
  },
  {
   "cell_type": "code",
   "execution_count": 12,
   "metadata": {},
   "outputs": [
    {
     "data": {
      "text/html": [
       "<div>\n",
       "<style scoped>\n",
       "    .dataframe tbody tr th:only-of-type {\n",
       "        vertical-align: middle;\n",
       "    }\n",
       "\n",
       "    .dataframe tbody tr th {\n",
       "        vertical-align: top;\n",
       "    }\n",
       "\n",
       "    .dataframe thead th {\n",
       "        text-align: right;\n",
       "    }\n",
       "</style>\n",
       "<table border=\"1\" class=\"dataframe\">\n",
       "  <thead>\n",
       "    <tr style=\"text-align: right;\">\n",
       "      <th></th>\n",
       "      <th>redshift</th>\n",
       "      <th>flux_0</th>\n",
       "      <th>flux_1</th>\n",
       "      <th>flux_2</th>\n",
       "      <th>flux_3</th>\n",
       "      <th>flux_4</th>\n",
       "      <th>flux_5</th>\n",
       "      <th>flux_6</th>\n",
       "      <th>flux_7</th>\n",
       "      <th>flux_8</th>\n",
       "      <th>...</th>\n",
       "      <th>fourier_feature_990</th>\n",
       "      <th>fourier_feature_991</th>\n",
       "      <th>fourier_feature_992</th>\n",
       "      <th>fourier_feature_993</th>\n",
       "      <th>fourier_feature_994</th>\n",
       "      <th>fourier_feature_995</th>\n",
       "      <th>fourier_feature_996</th>\n",
       "      <th>fourier_feature_997</th>\n",
       "      <th>fourier_feature_998</th>\n",
       "      <th>fourier_feature_999</th>\n",
       "    </tr>\n",
       "  </thead>\n",
       "  <tbody>\n",
       "    <tr>\n",
       "      <th>0</th>\n",
       "      <td>0.006325</td>\n",
       "      <td>0.0</td>\n",
       "      <td>0.0</td>\n",
       "      <td>0.0</td>\n",
       "      <td>0.0</td>\n",
       "      <td>0.0</td>\n",
       "      <td>0.0</td>\n",
       "      <td>0.0</td>\n",
       "      <td>0.0</td>\n",
       "      <td>0.0</td>\n",
       "      <td>...</td>\n",
       "      <td>-12.179796</td>\n",
       "      <td>-53.832094</td>\n",
       "      <td>1.685713</td>\n",
       "      <td>31.543285</td>\n",
       "      <td>-6.296643</td>\n",
       "      <td>-4.272801</td>\n",
       "      <td>-61.157884</td>\n",
       "      <td>33.396118</td>\n",
       "      <td>7.911534</td>\n",
       "      <td>-1.298503</td>\n",
       "    </tr>\n",
       "  </tbody>\n",
       "</table>\n",
       "<p>1 rows × 2001 columns</p>\n",
       "</div>"
      ],
      "text/plain": [
       "   redshift  flux_0  flux_1  flux_2  flux_3  flux_4  flux_5  flux_6  flux_7  \\\n",
       "0  0.006325     0.0     0.0     0.0     0.0     0.0     0.0     0.0     0.0   \n",
       "\n",
       "   flux_8  ...  fourier_feature_990  fourier_feature_991  fourier_feature_992  \\\n",
       "0     0.0  ...           -12.179796           -53.832094             1.685713   \n",
       "\n",
       "   fourier_feature_993  fourier_feature_994  fourier_feature_995  \\\n",
       "0            31.543285            -6.296643            -4.272801   \n",
       "\n",
       "   fourier_feature_996  fourier_feature_997  fourier_feature_998  \\\n",
       "0           -61.157884            33.396118             7.911534   \n",
       "\n",
       "   fourier_feature_999  \n",
       "0            -1.298503  \n",
       "\n",
       "[1 rows x 2001 columns]"
      ]
     },
     "execution_count": 12,
     "metadata": {},
     "output_type": "execute_result"
    }
   ],
   "source": [
    "X_with_fourier.head(1)"
   ]
  },
  {
   "cell_type": "code",
   "execution_count": 13,
   "metadata": {},
   "outputs": [
    {
     "data": {
      "image/png": "[encoded data removed]",
      "text/plain": [
       "<Figure size 1000x600 with 1 Axes>"
      ]
     },
     "metadata": {},
     "output_type": "display_data"
    }
   ],
   "source": [
    "from sklearn.model_selection import train_test_split\n",
    "from sklearn.preprocessing import StandardScaler\n",
    "from sklearn.decomposition import PCA\n",
    "\n",
    "from sklearn.preprocessing import StandardScaler\n",
    "\n",
    "# Assuming 'data_filtered' is your DataFrame after outlier removal\n",
    "X = X_with_fourier.drop(columns=['redshift'])\n",
    "y = X_with_fourier['redshift']\n",
    "\n",
    "\n",
    "\n",
    "# Standardize the features\n",
    "scaler = StandardScaler()\n",
    "X_scaled = scaler.fit_transform(X)\n",
    "\n",
    "# Initialize PCA\n",
    "pca = PCA()\n",
    "\n",
    "# Fit PCA on the scaled data\n",
    "pca.fit(X_scaled)\n",
    "\n",
    "# Transform the data to PCA space\n",
    "X_pca = pca.transform(X_scaled)\n",
    "\n",
    "# Create a DataFrame for PCA components\n",
    "pca_columns = [f'PC_{i+1}' for i in range(X_pca.shape[1])]\n",
    "X_pca_df = pd.DataFrame(X_pca, columns=pca_columns)\n",
    "\n",
    "# Combine PCA components with labels\n",
    "final_dataset = pd.concat([X_pca_df, y.reset_index(drop=True)], axis=1)\n",
    "\n",
    "# Analyze the explained variance\n",
    "explained_variance = pca.explained_variance_ratio_\n",
    "\n",
    "\n",
    "# Optionally, you can plot the explained variance\n",
    "import matplotlib.pyplot as plt\n",
    "\n",
    "plt.figure(figsize=(10, 6))\n",
    "plt.plot(np.cumsum(explained_variance), marker='o')\n",
    "plt.title('Cumulative Explained Variance by PCA Components')\n",
    "plt.xlabel('Number of Components')\n",
    "plt.ylabel('Cumulative Explained Variance')\n",
    "plt.grid()\n",
    "plt.show()"
   ]
  },
  {
   "cell_type": "code",
   "execution_count": 19,
   "metadata": {},
   "outputs": [
    {
     "name": "stdout",
     "output_type": "stream",
     "text": [
      "Number of features before filtering: 2000\n",
      "Number of features after filtering: 1930\n"
     ]
    }
   ],
   "source": [
    "import pandas as pd\n",
    "\n",
    "# Calculate the variance of each feature\n",
    "variance = X.var()\n",
    "\n",
    "# Set a threshold for minimum variance (you may adjust this value as needed)\n",
    "variance_threshold = 0.001\n",
    "X_filtered = X.loc[:, variance > variance_threshold]\n",
    "\n",
    "print(f\"Number of features before filtering: {X.shape[1]}\")\n",
    "print(f\"Number of features after filtering: {X_filtered.shape[1]}\")\n"
   ]
  },
  {
   "cell_type": "code",
   "execution_count": 28,
   "metadata": {},
   "outputs": [
    {
     "name": "stdout",
     "output_type": "stream",
     "text": [
      "Number of components selected to retain 95% variance: 1930\n",
      "Explained variance by each component: [9.61396555e-01 1.50119699e-02 6.06006146e-03 ... 3.11282833e-35\n",
      " 1.12562593e-35 2.58259382e-36]\n",
      "Total explained variance: 1.0000000000000007\n"
     ]
    }
   ],
   "source": [
    "from sklearn.decomposition import PCA\n",
    "\n",
    "# Initialize PCA with explained variance threshold (0.95 for 95%)\n",
    "pca = PCA(n_components=1930, random_state=42)\n",
    "\n",
    "# Fit PCA to the filtered data\n",
    "X_pca = pca.fit_transform(X_filtered)\n",
    "\n",
    "# Check the number of components selected\n",
    "print(f\"Number of components selected to retain 95% variance: {X_pca.shape[1]}\")\n",
    "print(\"Explained variance by each component:\", pca.explained_variance_ratio_)\n",
    "print(\"Total explained variance:\", sum(pca.explained_variance_ratio_))\n"
   ]
  },
  {
   "cell_type": "code",
   "execution_count": 29,
   "metadata": {},
   "outputs": [],
   "source": [
    "import pandas as pd\n",
    "\n",
    "# Define column names for each principal component\n",
    "pca_columns = [f'PC_{i+1}' for i in range(X_pca.shape[1])]\n",
    "\n",
    "# Convert the PCA result into a DataFrame\n",
    "X_pca_df = pd.DataFrame(X_pca, columns=pca_columns)\n"
   ]
  },
  {
   "cell_type": "code",
   "execution_count": 30,
   "metadata": {},
   "outputs": [
    {
     "data": {
      "text/plain": [
       "(4000, 1930)"
      ]
     },
     "execution_count": 30,
     "metadata": {},
     "output_type": "execute_result"
    }
   ],
   "source": [
    "X_pca_df.shape"
   ]
  },
  {
   "cell_type": "code",
   "execution_count": 31,
   "metadata": {},
   "outputs": [],
   "source": [
    "from sklearn.model_selection import train_test_split\n",
    "\n",
    "# Assuming X_resampled_df and y_resampled_df are already defined\n",
    "X = X_pca_df  # Features\n",
    "# Train-test split\n",
    "X_train, X_test, y_train, y_test = train_test_split(X, y, test_size=0.2, random_state=42)\n"
   ]
  },
  {
   "cell_type": "code",
   "execution_count": 32,
   "metadata": {},
   "outputs": [
    {
     "name": "stdout",
     "output_type": "stream",
     "text": [
      "Shape of X_train: (3200, 1930)\n",
      "Shape of y_train: (3200,)\n",
      "Shape of X_test: (800, 1930)\n",
      "Shape of y_test: (800,)\n"
     ]
    }
   ],
   "source": [
    "print(\"Shape of X_train:\", X_train.shape)\n",
    "print(\"Shape of y_train:\", y_train.shape)\n",
    "\n",
    "print(\"Shape of X_test:\", X_test.shape)\n",
    "print(\"Shape of y_test:\", y_test.shape)"
   ]
  },
  {
   "cell_type": "code",
   "execution_count": 33,
   "metadata": {},
   "outputs": [
    {
     "name": "stdout",
     "output_type": "stream",
     "text": [
      "Mean Squared Error: 0.0003\n",
      "R-squared: 0.8738\n"
     ]
    }
   ],
   "source": [
    "from astroML.linear_model import LinearRegression\n",
    "from sklearn.model_selection import train_test_split\n",
    "from sklearn.metrics import mean_squared_error, r2_score\n",
    "\n",
    "\n",
    "# Initialize the astroML Linear Regression model\n",
    "model = LinearRegression(fit_intercept=True, regularization='none')\n",
    "\n",
    "# Train the model\n",
    "model.fit(X_train, y_train)\n",
    "\n",
    "# Predict redshift on the test set\n",
    "y_pred = model.predict(X_test)\n",
    "\n",
    "# Evaluate the model\n",
    "mse = mean_squared_error(y_test, y_pred)\n",
    "r2 = r2_score(y_test, y_pred)\n",
    "print(f\"Mean Squared Error: {mse:.4f}\")\n",
    "print(f\"R-squared: {r2:.4f}\")\n"
   ]
  },
  {
   "cell_type": "code",
   "execution_count": 35,
   "metadata": {},
   "outputs": [
    {
     "name": "stdout",
     "output_type": "stream",
     "text": [
      "Mean Squared Error: 0.0001\n",
      "R-squared: 0.9377\n"
     ]
    }
   ],
   "source": [
    "from sklearn.ensemble import RandomForestRegressor\n",
    "from sklearn.metrics import mean_squared_error, r2_score\n",
    "\n",
    "# Initialize the RandomForestRegressor with initial parameters\n",
    "rf_regressor = RandomForestRegressor(n_estimators=100, random_state=42)  # You can adjust n_estimators and other parameters\n",
    "\n",
    "# Train the model\n",
    "rf_regressor.fit(X_train, y_train)\n",
    "\n",
    "# Make predictions\n",
    "y_pred = rf_regressor.predict(X_test)\n",
    "\n",
    "# Calculate the Mean Squared Error and R-squared values\n",
    "mse = mean_squared_error(y_test, y_pred)\n",
    "r2 = r2_score(y_test, y_pred)\n",
    "\n",
    "print(f\"Mean Squared Error: {mse:.4f}\")\n",
    "print(f\"R-squared: {r2:.4f}\")\n"
   ]
  }
 ],
 "metadata": {
  "kernelspec": {
   "display_name": "base",
   "language": "python",
   "name": "python3"
  },
  "language_info": {
   "codemirror_mode": {
    "name": "ipython",
    "version": 3
   },
   "file_extension": ".py",
   "mimetype": "text/x-python",
   "name": "python",
   "nbconvert_exporter": "python",
   "pygments_lexer": "ipython3",
   "version": "3.12.3"
  }
 },
 "nbformat": 4,
 "nbformat_minor": 2
}
